{
 "cells": [
  {
   "cell_type": "code",
   "execution_count": 81,
   "id": "951c9949",
   "metadata": {},
   "outputs": [],
   "source": [
    "from sklearn.model_selection import train_test_split\n",
    "\n",
    "from sklearn.neighbors import KNeighborsClassifier\n",
    "from sklearn.tree import DecisionTreeClassifier\n",
    "from sklearn.ensemble import RandomForestClassifier\n",
    "from sklearn.naive_bayes import GaussianNB\n",
    "from sklearn.svm import SVC\n",
    "\n",
    "from sklearn import metrics\n",
    "from sklearn.metrics import plot_confusion_matrix\n",
    "from sklearn.metrics import accuracy_score, precision_score, recall_score, f1_score, confusion_matrix\n",
    "from sklearn.metrics import make_scorer\n",
    "\n",
    "from sklearn.model_selection import cross_val_score\n",
    "from sklearn.model_selection import GridSearchCV\n",
    "\n",
    "import numpy as np\n",
    "import pandas as pd\n",
    "\n",
    "import matplotlib.pyplot as plt\n",
    "\n",
    "from IPython.display import display,Image\n",
    "from IPython.core.display import HTML \n",
    "from ipywidgets import Dropdown, Checkbox, Layout,GridBox\n",
    "\n",
    "import pickle\n",
    "\n",
    "BASE_URL = 'https://garden.org/'"
   ]
  },
  {
   "cell_type": "code",
   "execution_count": 2,
   "id": "0a86b5c4",
   "metadata": {},
   "outputs": [],
   "source": [
    "with open('./final_df.pickle','rb') as file:\n",
    "    df = pickle.load(file)"
   ]
  },
  {
   "cell_type": "code",
   "execution_count": 3,
   "id": "67ef7786",
   "metadata": {},
   "outputs": [],
   "source": [
    "def split_to_train_and_test(dataset, label_column, test_ratio, rand_state):\n",
    "    return train_test_split(dataset.drop(label_column, axis=1), dataset[label_column], test_size=test_ratio, random_state=rand_state)"
   ]
  },
  {
   "cell_type": "markdown",
   "id": "5f0f4417",
   "metadata": {},
   "source": [
    "## finding best model\n",
    "\n",
    "### choosing right hyuper param and right algorithm for the job"
   ]
  },
  {
   "cell_type": "code",
   "execution_count": 4,
   "id": "0dea835a",
   "metadata": {},
   "outputs": [],
   "source": [
    "def find_best_random_forest_num_estimators(X_train, y_train):\n",
    "    parameters = {'n_estimators':[11,51,71] }\n",
    "    clf = GridSearchCV(\n",
    "        RandomForestClassifier(),\n",
    "        parameters,\n",
    "        scoring=make_scorer(metrics.f1_score))\n",
    "    clf.fit(X_train, y_train)\n",
    "    print(\"RandomForestClassifier best parameter set is:\",clf.best_params_,\" and its score was\",clf.best_score_)\n",
    "    return clf.best_params_\n",
    "\n",
    "def find_best_decision_tree_params(X_train, y_train):\n",
    "    parameters = {'max_depth':[2,4,6], 'min_samples_split': [5,10,20] }\n",
    "    clf = GridSearchCV(\n",
    "        DecisionTreeClassifier(),\n",
    "        parameters,\n",
    "        scoring=make_scorer(metrics.f1_score))\n",
    "    clf.fit(X_train, y_train)\n",
    "    print(\"DecisionTreeClassifier best parameter set is:\",clf.best_params_,\" and its score was\",clf.best_score_)\n",
    "    return clf.best_params_\n",
    "\n",
    "def find_best_k_for_KNN(X_train, y_train):\n",
    "    parameters = {'n_neighbors':[3,7,9,11] }\n",
    "    knn = KNeighborsClassifier()\n",
    "    clf = GridSearchCV(knn, parameters,scoring=make_scorer(f1_score))\n",
    "    clf.fit(X_train, y_train)\n",
    "    print(\"KNeighborsClassifier best parameter set is:\",clf.best_params_,\" and its score was\",clf.best_score_)\n",
    "    return clf.best_params_"
   ]
  },
  {
   "cell_type": "code",
   "execution_count": 5,
   "id": "61c59a36",
   "metadata": {},
   "outputs": [],
   "source": [
    "def find_best_model(X_train, y_train):\n",
    "    dtc = DecisionTreeClassifier(**find_best_decision_tree_params(X_train, y_train))\n",
    "    rfc = RandomForestClassifier(**find_best_random_forest_num_estimators(X_train, y_train))\n",
    "    knnc = KNeighborsClassifier(**find_best_k_for_KNN(X_train, y_train))\n",
    "    svc = SVC()\n",
    "    scores_all = []\n",
    "    for inx, cls in enumerate([dtc, rfc, knnc, svc]):\n",
    "        scores = cross_val_score(cls, X_train, y_train, scoring=make_scorer(recall_score),\n",
    "                        cv=10)\n",
    "        average_score = np.average(scores)\n",
    "        print(average_score)\n",
    "        scores_all.append((cls, average_score))\n",
    "    return sorted(scores_all,key=lambda x: x[1], reverse=True)[0]"
   ]
  },
  {
   "cell_type": "code",
   "execution_count": 6,
   "id": "43fb0c29",
   "metadata": {},
   "outputs": [],
   "source": [
    "def rebase_df(df, col_name):\n",
    "    falsedf = df[df[col_name] == False]\n",
    "    truedf = df[df[col_name] == True]\n",
    "    if truedf.shape[0] * 2 < falsedf.shape[0]:\n",
    "        return pd.concat([falsedf.sample(truedf.shape[0] * 2), truedf])\n",
    "    else:\n",
    "        return df"
   ]
  },
  {
   "cell_type": "markdown",
   "id": "522edcee",
   "metadata": {},
   "source": [
    "## fill all empty numeric values\n",
    "\n",
    "### such as height, with values similar to other plants with the similar name"
   ]
  },
  {
   "cell_type": "code",
   "execution_count": 7,
   "id": "a295b54d",
   "metadata": {},
   "outputs": [],
   "source": [
    "filled_df = df.copy()\n",
    "for numeric_col in list(filled_df.select_dtypes(include=np.number).columns):\n",
    "    filled_df[numeric_col] = filled_df.sort_values(by=['name'])[numeric_col].fillna(method='ffill')\n",
    "filled_df = filled_df.drop(columns=['name', 'img']+ list(filled_df.select_dtypes(include=np.number).columns))"
   ]
  },
  {
   "cell_type": "markdown",
   "id": "cf52c4b3",
   "metadata": {},
   "source": [
    "## options for features to predict\n",
    "\n",
    "### only ones with more then 1000 true values"
   ]
  },
  {
   "cell_type": "code",
   "execution_count": 8,
   "id": "e6971ef7",
   "metadata": {},
   "outputs": [
    {
     "name": "stderr",
     "output_type": "stream",
     "text": [
      "<ipython-input-8-16c357e74f3e>:1: DeprecationWarning: `np.bool` is a deprecated alias for the builtin `bool`. To silence this warning, use `bool` by itself. Doing this will not modify any behavior and is safe. If you specifically wanted the numpy scalar type, use `np.bool_` here.\n",
      "Deprecated in NumPy 1.20; for more details and guidance: https://numpy.org/devdocs/release/1.20.0-notes.html#deprecations\n",
      "  count_df = df.select_dtypes(include=np.bool)\n"
     ]
    }
   ],
   "source": [
    "count_df = df.select_dtypes(include=np.bool)\n",
    "for col in count_df.columns:\n",
    "    if count_df[col].value_counts()[True] < 1000:\n",
    "        count_df = count_df.drop(columns=[col])"
   ]
  },
  {
   "cell_type": "code",
   "execution_count": 115,
   "id": "e518cc09",
   "metadata": {},
   "outputs": [
    {
     "data": {
      "application/vnd.jupyter.widget-view+json": {
       "model_id": "5750549801a34a0da8f5328f50fc1bdc",
       "version_major": 2,
       "version_minor": 0
      },
      "text/plain": [
       "GridBox(children=(Checkbox(value=False, description='plant habit_cactus/succulent'), Checkbox(value=False, des…"
      ]
     },
     "metadata": {},
     "output_type": "display_data"
    },
    {
     "data": {
      "application/vnd.jupyter.widget-view+json": {
       "model_id": "0d6bf32f3d674a0b857b00f104480328",
       "version_major": 2,
       "version_minor": 0
      },
      "text/plain": [
       "Dropdown(description='feature:', options=('plant habit_cactus/succulent', 'plant habit_herb/forb', 'plant habi…"
      ]
     },
     "metadata": {},
     "output_type": "display_data"
    },
    {
     "name": "stdout",
     "output_type": "stream",
     "text": [
      "DecisionTreeClassifier best parameter set is: {'max_depth': 6, 'min_samples_split': 5}  and its score was 0.9455171649769761\n",
      "RandomForestClassifier best parameter set is: {'n_estimators': 71}  and its score was 0.9705067366911647\n",
      "KNeighborsClassifier best parameter set is: {'n_neighbors': 3}  and its score was 0.9617605935062077\n",
      "0.9372143452877397\n",
      "0.9608924103419516\n",
      "0.9508590492076732\n",
      "0.9654378648874063\n"
     ]
    },
    {
     "data": {
      "image/png": "[encoded data removed]",
      "text/plain": [
       "<Figure size 432x288 with 2 Axes>"
      ]
     },
     "metadata": {
      "needs_background": "light"
     },
     "output_type": "display_data"
    },
    {
     "name": "stdout",
     "output_type": "stream",
     "text": [
      "The model predicted that your plant is True for uses_medicinal herb\n"
     ]
    }
   ],
   "source": [
    "widget = Dropdown(\n",
    "    options=count_df.columns,\n",
    "    description='predict:',\n",
    "    disabled=False\n",
    ")\n",
    "\n",
    "feature_widgets = []\n",
    "feature_input_options = ('plant habit', 'life cycle', 'flowers','sun requirements','leaves','wildlife attractant','water preferences','flower color','flower time','pollinators','edible parts')\n",
    "all_boolean_features = list(filter(lambda cn: cn.startswith(feature_input_options), filled_df.columns))\n",
    "for feature in all_boolean_features:\n",
    "    feature_widgets.append(Checkbox(\n",
    "    value=False,\n",
    "    description=feature,\n",
    "    disabled=False,\n",
    "    ))\n",
    "box = GridBox(children=feature_widgets, layout=Layout(\n",
    "            width='50%'))\n",
    "\n",
    "\n",
    "def on_change(feature_name):\n",
    "    \n",
    "    valid_cols = list(filter(lambda cn: feature_name.split('_')[0] not in cn, filled_df.columns))\n",
    "    min_cols = list(filter(lambda cn: cn.startswith(feature_input_options), valid_cols))\n",
    "    valid_cols_df = filled_df[min_cols + [feature_name]]\n",
    "    \n",
    "    X_train, X_test, y_train, y_test = split_to_train_and_test(rebase_df(valid_cols_df, feature_name), feature_name, 0.2, 42)\n",
    "    z = find_best_model(X_train, y_train)\n",
    "    clf = z[0]\n",
    "    clf.fit(X_train, y_train)\n",
    "    plot_confusion_matrix(clf, X_test, y_test)\n",
    "    plt.show()\n",
    "    record_to_predict = pd.DataFrame({c.description: c.value for c in box.children}, index=[0])\n",
    "    print(\"The model predicted that your plant is %s for %s\" % (clf.predict(record_to_predict[min_cols])[0], feature_name))\n",
    "\n",
    "\n",
    "widget.observe(\n",
    "    lambda c: on_change(c['new']) if (c['type'] == 'change' and c['name'] == 'value') else None\n",
    ")\n",
    "\n",
    "display(box)\n",
    "display(widget)"
   ]
  },
  {
   "cell_type": "code",
   "execution_count": 114,
   "id": "9f059744",
   "metadata": {},
   "outputs": [
    {
     "data": {
      "text/plain": [
       "uses_medicinal herb                  1.000000\n",
       "leaves_fragrant                      0.450269\n",
       "leaves_malodorous                    0.307539\n",
       "edible parts_leaves                  0.229073\n",
       "edible parts_seeds or nuts           0.217817\n",
       "pollinators_bees                     0.181170\n",
       "edible parts_flowers                 0.175650\n",
       "water preferences_dry mesic          0.146165\n",
       "wildlife attractant_birds            0.127868\n",
       "pollinators_moths and butterflies    0.126248\n",
       "Name: uses_medicinal herb, dtype: float64"
      ]
     },
     "execution_count": 114,
     "metadata": {},
     "output_type": "execute_result"
    }
   ],
   "source": [
    "filled_df[all_boolean_features + ['uses_medicinal herb']].corr()['uses_medicinal herb'].nlargest(10)"
   ]
  }
 ],
 "metadata": {
  "kernelspec": {
   "display_name": "Python 3",
   "language": "python",
   "name": "python3"
  },
  "language_info": {
   "codemirror_mode": {
    "name": "ipython",
    "version": 3
   },
   "file_extension": ".py",
   "mimetype": "text/x-python",
   "name": "python",
   "nbconvert_exporter": "python",
   "pygments_lexer": "ipython3",
   "version": "3.9.0"
  }
 },
 "nbformat": 4,
 "nbformat_minor": 5
}
